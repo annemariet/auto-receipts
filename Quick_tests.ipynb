{
 "cells": [
  {
   "attachments": {},
   "cell_type": "markdown",
   "id": "e923b959-7806-4092-8d6c-c4adb53becd6",
   "metadata": {},
   "source": [
    "# Quick check data"
   ]
  },
  {
   "cell_type": "code",
   "execution_count": null,
   "id": "86e9d07f-aa2a-4c6f-8b22-bf52f6613663",
   "metadata": {},
   "outputs": [],
   "source": [
    "import pandas as pd\n",
    "import numpy as np\n",
    "import matplotlib.pyplot as plt\n",
    "import seaborn as sns\n",
    "import os"
   ]
  },
  {
   "cell_type": "code",
   "execution_count": null,
   "id": "6c821d78",
   "metadata": {},
   "outputs": [],
   "source": [
    "data_dir = \"data\"\n",
    "receipts_csv_dir = os.path.join(data_dir, \"receipts\", \"csv\")\n",
    "receipts_ocr_dir = os.path.join(data_dir, \"receipts\", \"ocr\")\n",
    "images_dir = os.path.join(data_dir, \"receipts\", \"images\")"
   ]
  },
  {
   "cell_type": "code",
   "execution_count": null,
   "id": "ff700dfc-1e67-4c93-9115-af92a0b77c5e",
   "metadata": {},
   "outputs": [],
   "source": [
    "all_amounts = pd.read_csv(os.path.join(data_dir, \"Comptes.csv\"), header=0, parse_dates=[\"Date\",])"
   ]
  },
  {
   "cell_type": "code",
   "execution_count": null,
   "id": "343929f9",
   "metadata": {},
   "outputs": [],
   "source": [
    "all_amounts[\"Prix\"] = all_amounts.Prix.apply(lambda x: float(x.replace(\",\", \".\")) if isinstance(x, str) else x)\n",
    "all_amounts[\"Total panier\"] = all_amounts[\"Total panier\"].apply(lambda x: float(x.replace(\",\", \".\")) if isinstance(x, str) else x)\n",
    "all_amounts[\"Prix unitaire/kg\"] = all_amounts[\"Prix unitaire/kg\"].apply(lambda x: float(x.replace(\"/kg\", \"\").replace(\",\", \".\")) if isinstance(x, str) else x)"
   ]
  },
  {
   "cell_type": "code",
   "execution_count": null,
   "id": "186ba1cc",
   "metadata": {},
   "outputs": [],
   "source": [
    "all_amounts.columns"
   ]
  },
  {
   "cell_type": "code",
   "execution_count": null,
   "id": "1a7911e9",
   "metadata": {},
   "outputs": [],
   "source": [
    "all_amounts[['Date', 'Marchand', 'Adresse', 'Article',\n",
    "       'Catégorie 1', 'Catégorie 2', 'Prix']].groupby(\"Catégorie 1\")[\"Prix\"].sum().sort_values()"
   ]
  },
  {
   "cell_type": "code",
   "execution_count": null,
   "id": "bf6b6a01",
   "metadata": {},
   "outputs": [],
   "source": [
    "fig, ax = plt.subplots(figsize=(18, 6))\n",
    "sns.boxplot(data=all_amounts.sort_values(by=\"Catégorie 2\"), hue=\"Catégorie 2\", y=\"Catégorie 2\", x=\"Prix\", legend=False, orient='h')"
   ]
  },
  {
   "cell_type": "code",
   "execution_count": null,
   "id": "e5456155",
   "metadata": {},
   "outputs": [],
   "source": [
    "one_receipt = pd.read_csv(os.path.join(receipts_ocr_dir, \"9bfbc8d7-b21c-48d9-8e74-41cff355b464.csv\"))\n",
    "one_receipt.head()"
   ]
  },
  {
   "cell_type": "code",
   "execution_count": null,
   "id": "d3a25895",
   "metadata": {},
   "outputs": [],
   "source": [
    "one_receipt.columns"
   ]
  },
  {
   "cell_type": "code",
   "execution_count": null,
   "id": "d04afe9a",
   "metadata": {},
   "outputs": [],
   "source": [
    "disabled = ['Merchant_Address', 'currency', 'Merchant_Name', 'Total_Amount', 'Date', 'Price', 'Description', 'Line_Amount', 'Quantity']"
   ]
  },
  {
   "cell_type": "code",
   "execution_count": null,
   "id": "ed2cf28a",
   "metadata": {},
   "outputs": [],
   "source": [
    "image_file = os.path.join(images_dir, one_receipt.iloc[0].original_filename)\n",
    "image_file"
   ]
  },
  {
   "cell_type": "code",
   "execution_count": null,
   "id": "75dd962a",
   "metadata": {},
   "outputs": [],
   "source": [
    "one_receipt[\"Quantity\"].fillna(1)"
   ]
  },
  {
   "cell_type": "code",
   "execution_count": null,
   "id": "925baaf5",
   "metadata": {},
   "outputs": [],
   "source": []
  },
  {
   "attachments": {},
   "cell_type": "markdown",
   "id": "c6a9051a",
   "metadata": {},
   "source": [
    "# OCR API"
   ]
  },
  {
   "cell_type": "code",
   "execution_count": null,
   "id": "a6b28ac6",
   "metadata": {},
   "outputs": [],
   "source": [
    "import requests\n",
    "import configparser\n",
    "import pathlib\n",
    "\n",
    "def get_nanonet_key():\n",
    "    config = configparser.ConfigParser()\n",
    "    config.read(os.path.join(pathlib.Path().home(), \".nanonet\"))\n",
    "    return config[\"account\"][\"apikey\"]"
   ]
  },
  {
   "cell_type": "code",
   "execution_count": null,
   "id": "6233f693",
   "metadata": {},
   "outputs": [],
   "source": [
    "\n",
    "url = 'https://app.nanonets.com/api/v2/OCR/Model/9bfbc8d7-b21c-48d9-8e74-41cff355b464/LabelFile/?async=false'\n",
    "\n",
    "data = {'file': open(image_file, 'rb')}\n",
    "\n",
    "response = requests.post(url, auth=requests.auth.HTTPBasicAuth(get_nanonet_key(), ''), files=data)\n",
    "\n",
    "print(response.text)\n",
    "        "
   ]
  },
  {
   "cell_type": "code",
   "execution_count": null,
   "id": "fa5b7874",
   "metadata": {},
   "outputs": [],
   "source": [
    "response.json()[\"result\"][0][\"input\"]"
   ]
  },
  {
   "cell_type": "code",
   "execution_count": null,
   "id": "732bde2a",
   "metadata": {},
   "outputs": [],
   "source": [
    "import json\n",
    "\n",
    "with open(os.path.join(receipts_ocr_dir, \"PXL_20240102_192728736.jpg\".replace(\"jpg\", \"json\")), \"w\") as f:\n",
    "    f.write(json.dumps(response.json()[\"result\"]))"
   ]
  },
  {
   "cell_type": "code",
   "execution_count": null,
   "id": "3337a92b",
   "metadata": {},
   "outputs": [],
   "source": [
    "\n",
    "with open(os.path.join(receipts_ocr_dir, \"PXL_20240105_181057959.jpg\".replace(\"jpg\", \"json\")), \"r\") as f:\n",
    "    loaded_json = json.loads(f.read())"
   ]
  },
  {
   "cell_type": "code",
   "execution_count": null,
   "id": "5d56ecbf",
   "metadata": {},
   "outputs": [],
   "source": [
    "import glob\n",
    "\n",
    "receipt_list = glob.glob(os.path.join(receipts_ocr_dir, \"*.csv\"))"
   ]
  },
  {
   "cell_type": "code",
   "execution_count": null,
   "id": "d63569ed",
   "metadata": {},
   "outputs": [],
   "source": [
    "[f for f in os.listdir(receipts_ocr_dir) if f.endswith(\".csv\")]"
   ]
  },
  {
   "cell_type": "code",
   "execution_count": null,
   "id": "fddf746c",
   "metadata": {},
   "outputs": [],
   "source": [
    "loaded_json[0][\"prediction\"]"
   ]
  },
  {
   "cell_type": "code",
   "execution_count": null,
   "id": "573f020a",
   "metadata": {},
   "outputs": [],
   "source": [
    "raw_output = pd.DataFrame(response.json()[\"result\"][0][\"prediction\"])\n",
    "raw_output"
   ]
  },
  {
   "cell_type": "code",
   "execution_count": null,
   "id": "bce82b5c",
   "metadata": {},
   "outputs": [],
   "source": [
    "def extract_as_clean_csv(nanonet_result):\n",
    "    raw_output = pd.DataFrame(nanonet_result[\"prediction\"])\n",
    "    columns_global =  ['currency', 'Merchant_Name', 'Merchant_Phone', 'Merchant_Address',\n",
    "       'Total_Amount', 'Tax_Amount', 'Date',]\n",
    "    processed_output1 = pd.DataFrame(columns=raw_output[\"label\"].values, data=[raw_output[\"ocr_text\"].values])\n",
    "    processed_output = pd.DataFrame(columns=columns_global)\n",
    "    for c in columns_global:\n",
    "        if c in processed_output1.columns:\n",
    "            processed_output[c] = processed_output1[c]\n",
    "    \n",
    "    raw_table = pd.DataFrame(raw_output[raw_output.label == \"table\"].iloc[0].cells)\n",
    "    processed_table = pd.DataFrame([\n",
    "        pd.Series(index=row.label, data=row[\"text\"].values, name=i) for i, row in raw_table.groupby(\"row\")\n",
    "    ]\n",
    "    )\n",
    "    processed_table[columns_global] = pd.concat([processed_output for _ in range(len(processed_table))], ignore_index=True)\n",
    "\n",
    "    processed_table[\"Quantity\"] = processed_table[\"Quantity\"].fillna(1)\n",
    "    processed_table[\"Line_Amount\"] = processed_table[\"Line_Amount\"].apply(lambda x: x.replace(\"€\", \"\").strip()  if isinstance(x, str) else x)\n",
    "    processed_table[\"Price\"] = processed_table[\"Price\"].apply(lambda x: x.replace(\"/kg\", \"\").replace(\"/ kg\", \"\").replace(\"€\", \"\").strip()  if isinstance(x, str) else x)\n",
    "    processed_table[\"original_filename\"] = response.json()[\"result\"][0][\"input\"]\n",
    "    return processed_table"
   ]
  },
  {
   "cell_type": "code",
   "execution_count": null,
   "id": "f4795214",
   "metadata": {},
   "outputs": [],
   "source": [
    "extract_as_clean_csv(response.json()[\"result\"][0])"
   ]
  },
  {
   "cell_type": "code",
   "execution_count": null,
   "id": "78005432",
   "metadata": {},
   "outputs": [],
   "source": [
    "raw_output[\"label\"].values"
   ]
  },
  {
   "cell_type": "code",
   "execution_count": null,
   "id": "3cf45b08",
   "metadata": {},
   "outputs": [],
   "source": [
    "columns_global =  ['currency', 'Merchant_Name', 'Merchant_Phone', 'Merchant_Address',\n",
    "       'Total_Amount', 'Tax_Amount', 'Date',]"
   ]
  },
  {
   "cell_type": "code",
   "execution_count": null,
   "id": "05a345fe",
   "metadata": {},
   "outputs": [],
   "source": [
    "\n",
    "processed_output1 = pd.DataFrame(columns=raw_output[\"label\"].values, data=[raw_output[\"ocr_text\"].values])\n",
    "processed_output = pd.DataFrame(columns=columns_global)\n",
    "for c in columns_global:\n",
    "    if c in processed_output1.columns:\n",
    "        processed_output[c] = processed_output1[c]\n",
    "processed_output"
   ]
  },
  {
   "cell_type": "code",
   "execution_count": null,
   "id": "aa4a21bb",
   "metadata": {},
   "outputs": [],
   "source": [
    "len(raw_output)"
   ]
  },
  {
   "cell_type": "code",
   "execution_count": null,
   "id": "ad35c496",
   "metadata": {},
   "outputs": [],
   "source": [
    "raw_table = pd.DataFrame(raw_output[raw_output.label == \"table\"].iloc[0].cells)\n",
    "raw_table.head()"
   ]
  },
  {
   "cell_type": "code",
   "execution_count": null,
   "id": "eb9f43c6",
   "metadata": {},
   "outputs": [],
   "source": [
    "one_receipt.columns"
   ]
  },
  {
   "cell_type": "code",
   "execution_count": null,
   "id": "b8d440a8",
   "metadata": {},
   "outputs": [],
   "source": [
    "processed_table = pd.DataFrame([\n",
    "pd.Series(index=row.label, data=row[\"text\"].values, name=i) for i, row in raw_table.groupby(\"row\")\n",
    "]\n",
    ")\n",
    "processed_table[columns_global] = pd.concat([processed_output for _ in range(len(processed_table))], ignore_index=True)\n",
    "processed_table"
   ]
  },
  {
   "cell_type": "code",
   "execution_count": null,
   "id": "e8fe00d8",
   "metadata": {},
   "outputs": [],
   "source": [
    "response.json()[\"result\"]"
   ]
  },
  {
   "attachments": {},
   "cell_type": "markdown",
   "id": "ed685ccb",
   "metadata": {},
   "source": []
  }
 ],
 "metadata": {
  "kernelspec": {
   "display_name": "Python 3",
   "language": "python",
   "name": "python3"
  },
  "language_info": {
   "codemirror_mode": {
    "name": "ipython",
    "version": 3
   },
   "file_extension": ".py",
   "mimetype": "text/x-python",
   "name": "python",
   "nbconvert_exporter": "python",
   "pygments_lexer": "ipython3",
   "version": "3.10.10"
  }
 },
 "nbformat": 4,
 "nbformat_minor": 5
}
